{
  "nbformat": 4,
  "nbformat_minor": 0,
  "metadata": {
    "colab": {
      "provenance": [],
      "gpuType": "T4",
      "toc_visible": true
    },
    "kernelspec": {
      "name": "python3",
      "display_name": "Python 3"
    },
    "language_info": {
      "name": "python"
    },
    "accelerator": "GPU"
  },
  "cells": [
    {
      "cell_type": "code",
      "execution_count": 25,
      "metadata": {
        "id": "pHt_7s583LqK"
      },
      "outputs": [],
      "source": [
        "import pandas as pd\n",
        "import numpy as np\n",
        "from sklearn.model_selection import train_test_split\n",
        "from sklearn.ensemble import RandomForestClassifier, RandomForestRegressor\n",
        "from sklearn.metrics import accuracy_score, classification_report, mean_squared_error, r2_score\n",
        "from sklearn.preprocessing import LabelEncoder, StandardScaler\n",
        "from sklearn.ensemble import RandomForestRegressor\n",
        "from sklearn.metrics import mean_squared_error, mean_absolute_error\n",
        "from sklearn.model_selection import train_test_split\n",
        "from sklearn.ensemble import RandomForestClassifier\n",
        "from sklearn.metrics import accuracy_score, classification_report\n",
        "from sklearn.metrics import r2_score\n",
        "\n",
        "# Visualization\n",
        "import matplotlib.pyplot as plt\n",
        "import seaborn as sns"
      ]
    },
    {
      "cell_type": "markdown",
      "source": [
        "# Bus"
      ],
      "metadata": {
        "id": "jCaCrh2P2JZb"
      }
    },
    {
      "cell_type": "markdown",
      "source": [
        "loading and preprocessing"
      ],
      "metadata": {
        "id": "qFtzq62WuGi7"
      }
    },
    {
      "cell_type": "code",
      "source": [
        "bus = pd.read_csv('cleaned_bus.csv')\n",
        "bus.info()\n",
        "\n",
        "# Convert 'date' and 'time' into datetime features\n",
        "bus['datetime'] = pd.to_datetime(bus['date'] + ' ' + bus['time'])\n",
        "bus['day_of_week'] = bus['day']\n",
        "bus['hour'] = bus['datetime'].dt.hour\n",
        "bus['month'] = bus['datetime'].dt.month\n",
        "bus['day'] = bus['datetime'].dt.day\n",
        "\n",
        "# Encode categorical variables\n",
        "encoder = LabelEncoder()\n",
        "bus['location'] = encoder.fit_transform(bus['location'])\n",
        "bus['incident'] = encoder.fit_transform(bus['incident'])\n",
        "bus['route'] = encoder.fit_transform(bus['route'])\n",
        "bus['direction'] = encoder.fit_transform(bus['direction'])\n",
        "bus['day_of_week'] = encoder.fit_transform(bus['day'])\n",
        "bus['day_type'] = encoder.fit_transform(bus['day_type'])\n",
        "bus['rush_type'] = encoder.fit_transform(bus['rush_type'])\n",
        "bus['season'] = encoder.fit_transform(bus['season'])\n"
      ],
      "metadata": {
        "colab": {
          "base_uri": "https://localhost:8080/"
        },
        "id": "hHgVKHOdcptV",
        "outputId": "7923386a-4bf9-464f-c32a-783eaa6e20e1"
      },
      "execution_count": 21,
      "outputs": [
        {
          "output_type": "stream",
          "name": "stdout",
          "text": [
            "<class 'pandas.core.frame.DataFrame'>\n",
            "RangeIndex: 54609 entries, 0 to 54608\n",
            "Data columns (total 17 columns):\n",
            " #   Column           Non-Null Count  Dtype  \n",
            "---  ------           --------------  -----  \n",
            " 0   date             54609 non-null  object \n",
            " 1   route            54059 non-null  object \n",
            " 2   time             54609 non-null  object \n",
            " 3   day              54609 non-null  object \n",
            " 4   location         54609 non-null  object \n",
            " 5   incident         54609 non-null  object \n",
            " 6   min_delay        54609 non-null  int64  \n",
            " 7   min_gap          54609 non-null  int64  \n",
            " 8   direction        46007 non-null  object \n",
            " 9   day_type         54609 non-null  object \n",
            " 10  rush_type        54609 non-null  object \n",
            " 11  season           54609 non-null  object \n",
            " 12  is_holiday       54609 non-null  int64  \n",
            " 13  max_temp_c       54609 non-null  float64\n",
            " 14  min_temp_c       54609 non-null  float64\n",
            " 15  total_precip_mm  54609 non-null  float64\n",
            " 16  snow_on_grnd_cm  54609 non-null  int64  \n",
            "dtypes: float64(3), int64(4), object(10)\n",
            "memory usage: 7.1+ MB\n"
          ]
        }
      ]
    },
    {
      "cell_type": "code",
      "source": [
        "# Create a binary target for delay most likely occur (severe)\n",
        "bus['delay_occurrence'] = (bus['min_delay'] > 0).astype(int)\n",
        "\n",
        "# Select features\n",
        "features = ['hour', 'day', 'month', 'day_of_week', 'location', 'incident', 'route', 'direction',\n",
        "            'day_type', 'rush_type', 'season', 'is_holiday', 'max_temp_c', 'min_temp_c',\n",
        "            'total_precip_mm', 'snow_on_grnd_cm']"
      ],
      "metadata": {
        "id": "Uvy8CaKPtBLf"
      },
      "execution_count": 22,
      "outputs": []
    },
    {
      "cell_type": "markdown",
      "source": [
        "## Occurrency"
      ],
      "metadata": {
        "id": "FjNxLHdVuIsI"
      }
    },
    {
      "cell_type": "code",
      "source": [
        "# Split data into train and test sets\n",
        "X = bus[features]\n",
        "y = bus['delay_occurrence']\n",
        "X_train, X_test, y_train, y_test = train_test_split(X, y, test_size=0.2, random_state=42)\n",
        "\n",
        "# Train a Random Forest Classifier\n",
        "rf_occurrence = RandomForestClassifier(random_state=42)\n",
        "rf_occurrence.fit(X_train, y_train)\n",
        "\n",
        "# Predictions\n",
        "y_pred_occurrence = rf_occurrence.predict(X_test)\n",
        "\n",
        "# Evaluate the model\n",
        "print(\"Accuracy:\", accuracy_score(y_test, y_pred_occurrence))\n",
        "print(classification_report(y_test, y_pred_occurrence))"
      ],
      "metadata": {
        "colab": {
          "base_uri": "https://localhost:8080/"
        },
        "id": "lyVjSMqvuF15",
        "outputId": "96be43e6-f283-44cd-b020-980f34d931ea"
      },
      "execution_count": 13,
      "outputs": [
        {
          "output_type": "stream",
          "name": "stdout",
          "text": [
            "Accuracy: 0.9222669840688519\n",
            "              precision    recall  f1-score   support\n",
            "\n",
            "           0       0.77      0.50      0.61      1309\n",
            "           1       0.93      0.98      0.96      9613\n",
            "\n",
            "    accuracy                           0.92     10922\n",
            "   macro avg       0.85      0.74      0.78     10922\n",
            "weighted avg       0.92      0.92      0.91     10922\n",
            "\n"
          ]
        }
      ]
    },
    {
      "cell_type": "markdown",
      "source": [
        "## Length"
      ],
      "metadata": {
        "id": "KBGXpQlDkyXj"
      }
    },
    {
      "cell_type": "code",
      "source": [
        "# Split data into train and test sets\n",
        "X = bus[features]\n",
        "y = bus['min_delay']\n",
        "X_train, X_test, y_train, y_test = train_test_split(X, y, test_size=0.2, random_state=42)\n",
        "\n",
        "# Instantiate the model\n",
        "rf_regressor = RandomForestRegressor(n_estimators=100, random_state=42)\n",
        "\n",
        "# Train the model\n",
        "rf_regressor.fit(X_train, y_train)\n",
        "\n",
        "# Predict on test data\n",
        "y_pred = rf_regressor.predict(X_test)\n",
        "\n",
        "# Evaluate the model\n",
        "mse = mean_squared_error(y_test, y_pred)\n",
        "mae = mean_absolute_error(y_test, y_pred)\n",
        "r2 = r2_score(y_test, y_pred)\n",
        "print(f'Mean Squared Error: {mse}')\n",
        "print(f'Mean Absolute Error: {mae}')\n",
        "print(f'R-squared: {r2}')"
      ],
      "metadata": {
        "colab": {
          "base_uri": "https://localhost:8080/"
        },
        "id": "Y7mgLrOdk2F2",
        "outputId": "c6de2aa3-aa22-462e-d8a3-1d28b80ed98a"
      },
      "execution_count": 31,
      "outputs": [
        {
          "output_type": "stream",
          "name": "stdout",
          "text": [
            "Mean Squared Error: 1676.6484673060688\n",
            "Mean Absolute Error: 11.811802878201272\n",
            "R-squared: 0.4015687445549774\n"
          ]
        }
      ]
    },
    {
      "cell_type": "markdown",
      "source": [
        "# Streetcar"
      ],
      "metadata": {
        "id": "3iJ0Re9P2PMr"
      }
    },
    {
      "cell_type": "code",
      "source": [
        "# Load the TTC delay dataset\n",
        "streetcar = pd.read_csv('cleaned_streetcar.csv')\n",
        "\n",
        "# Convert 'date' and 'time' into datetime features\n",
        "streetcar['datetime'] = pd.to_datetime(streetcar['date'] + ' ' + streetcar['time'])\n",
        "streetcar['day_of_week'] = streetcar['day']\n",
        "streetcar['hour'] = streetcar['datetime'].dt.hour\n",
        "streetcar['month'] = streetcar['datetime'].dt.month\n",
        "streetcar['day'] = streetcar['datetime'].dt.day\n",
        "\n",
        "# Encode categorical variables (e.g., 'location', 'incident', 'route', 'day_type')\n",
        "encoder = LabelEncoder()\n",
        "streetcar['location'] = encoder.fit_transform(streetcar['location'])\n",
        "streetcar['incident'] = encoder.fit_transform(streetcar['incident'])\n",
        "streetcar['line'] = encoder.fit_transform(streetcar['line'])\n",
        "streetcar['bound'] = encoder.fit_transform(streetcar['bound'])\n",
        "streetcar['day_of_week'] = encoder.fit_transform(streetcar['day'])\n",
        "streetcar['day_type'] = encoder.fit_transform(streetcar['day_type'])\n",
        "streetcar['rush_type'] = encoder.fit_transform(streetcar['rush_type'])\n",
        "streetcar['season'] = encoder.fit_transform(streetcar['season'])\n",
        "\n",
        "# Select features\n",
        "features = ['hour', 'day', 'month', 'day_of_week', 'location', 'incident', 'line', 'bound',\n",
        "            'day_type', 'rush_type', 'season', 'is_holiday', 'max_temp_c', 'min_temp_c',\n",
        "            'total_precip_mm', 'snow_on_grnd_cm']"
      ],
      "metadata": {
        "id": "6-SVdOTO3aTK"
      },
      "execution_count": 32,
      "outputs": []
    },
    {
      "cell_type": "markdown",
      "source": [
        "## Occurrency"
      ],
      "metadata": {
        "id": "S0k3OXaxl3-x"
      }
    },
    {
      "cell_type": "code",
      "source": [
        "# Create a binary target for delay occurrence\n",
        "streetcar['delay_occurrence'] = (streetcar['min_delay'] > 0).astype(int)\n",
        "\n",
        "# Split data into train and test sets\n",
        "X = streetcar[features]\n",
        "y = streetcar['delay_occurrence']\n",
        "X_train, X_test, y_train, y_test = train_test_split(X, y, test_size=0.2, random_state=42)\n",
        "\n",
        "# Train a Random Forest Classifier\n",
        "rf_occurrence = RandomForestClassifier(random_state=42)\n",
        "rf_occurrence.fit(X_train, y_train)\n",
        "\n",
        "# Predictions\n",
        "y_pred_occurrence = rf_occurrence.predict(X_test)\n",
        "\n",
        "# Evaluate the model\n",
        "print(\"Accuracy:\", accuracy_score(y_test, y_pred_occurrence))\n",
        "print(classification_report(y_test, y_pred_occurrence))"
      ],
      "metadata": {
        "colab": {
          "base_uri": "https://localhost:8080/"
        },
        "id": "CUcdVOmv3pvb",
        "outputId": "030e785c-4e25-4333-8db6-dbaf413ee962"
      },
      "execution_count": 15,
      "outputs": [
        {
          "output_type": "stream",
          "name": "stdout",
          "text": [
            "Accuracy: 0.8707093821510298\n",
            "              precision    recall  f1-score   support\n",
            "\n",
            "           0       0.80      0.40      0.53       484\n",
            "           1       0.88      0.98      0.92      2138\n",
            "\n",
            "    accuracy                           0.87      2622\n",
            "   macro avg       0.84      0.69      0.73      2622\n",
            "weighted avg       0.86      0.87      0.85      2622\n",
            "\n"
          ]
        }
      ]
    },
    {
      "cell_type": "markdown",
      "source": [
        "## Length"
      ],
      "metadata": {
        "id": "DTGNnXHblZAR"
      }
    },
    {
      "cell_type": "code",
      "source": [
        "# Split data into train and test sets\n",
        "X = streetcar[features]\n",
        "y = streetcar['min_delay']\n",
        "X_train, X_test, y_train, y_test = train_test_split(X, y, test_size=0.2, random_state=42)\n",
        "\n",
        "# Instantiate the model\n",
        "rf_regressor = RandomForestRegressor(n_estimators=100, random_state=42)\n",
        "\n",
        "# Train the model\n",
        "rf_regressor.fit(X_train, y_train)\n",
        "\n",
        "# Predict on test data\n",
        "y_pred = rf_regressor.predict(X_test)\n",
        "\n",
        "# Evaluate the model\n",
        "mse = mean_squared_error(y_test, y_pred)\n",
        "mae = mean_absolute_error(y_test, y_pred)\n",
        "r2 = r2_score(y_test, y_pred)\n",
        "print(f'Mean Squared Error: {mse}')\n",
        "print(f'Mean Absolute Error: {mae}')\n",
        "print(f'R-squared: {r2}')"
      ],
      "metadata": {
        "colab": {
          "base_uri": "https://localhost:8080/"
        },
        "id": "nAraW4nHlai7",
        "outputId": "e4104c4d-5172-40ed-92b2-c5f75fd384ac"
      },
      "execution_count": 52,
      "outputs": [
        {
          "output_type": "stream",
          "name": "stdout",
          "text": [
            "Mean Squared Error: 1236.2823183225041\n",
            "Mean Absolute Error: 13.226827393059942\n",
            "R-squared: 0.032810975640353734\n"
          ]
        }
      ]
    },
    {
      "cell_type": "markdown",
      "source": [
        "# Subway"
      ],
      "metadata": {
        "id": "gV3iXSkM3Y4h"
      }
    },
    {
      "cell_type": "code",
      "source": [
        "# Load the TTC subway delay dataset\n",
        "subway = pd.read_csv('cleaned_subway.csv')\n",
        "\n",
        "# Convert 'date' and 'time' into datetime features\n",
        "subway['datetime'] = pd.to_datetime(subway['date'] + ' ' + subway['time'])\n",
        "subway['hour'] = subway['datetime'].dt.hour\n",
        "subway['day_of_week'] = subway['datetime'].dt.dayofweek\n",
        "subway['month'] = subway['datetime'].dt.month\n",
        "subway['day'] = subway['datetime'].dt.day\n",
        "\n",
        "# Initialize LabelEncoder\n",
        "encoder = LabelEncoder()\n",
        "\n",
        "# Encode categorical variables\n",
        "subway['station'] = encoder.fit_transform(subway['station'])\n",
        "subway['code'] = encoder.fit_transform(subway['code'])\n",
        "\n",
        "# Handle missing values in 'bound' and 'line_code' by filling with a placeholder (e.g., 'Unknown')\n",
        "subway['bound'].fillna('Unknown', inplace=True)\n",
        "subway['line_code'].fillna('Unknown', inplace=True)\n",
        "subway['bound'] = encoder.fit_transform(subway['bound'])\n",
        "subway['line_code'] = encoder.fit_transform(subway['line_code'])\n",
        "\n",
        "# Encode other categorical columns\n",
        "subway['day_type'] = encoder.fit_transform(subway['day_type'])\n",
        "subway['rush_type'] = encoder.fit_transform(subway['rush_type'])\n",
        "subway['season'] = encoder.fit_transform(subway['season'])\n",
        "\n",
        "# Select features for the model\n",
        "features = [\n",
        "    'hour', 'day', 'month', 'day_of_week', 'station', 'code', 'bound', 'line_code',\n",
        "    'day_type', 'rush_type', 'season', 'is_holiday', 'max_temp_c', 'min_temp_c',\n",
        "    'total_precip_mm', 'snow_on_grnd_cm'\n",
        "]\n",
        "\n",
        "# Prepare the feature matrix\n",
        "X = subway[features].values\n",
        "\n",
        "# Standardize numerical features (optional, if using a model sensitive to feature scaling)\n",
        "scaler = StandardScaler()\n",
        "X_scaled = scaler.fit_transform(X)"
      ],
      "metadata": {
        "colab": {
          "base_uri": "https://localhost:8080/"
        },
        "id": "0hS8XJIz2OoM",
        "outputId": "fb8780bf-7ec2-433e-def0-6831dfbdfbcb"
      },
      "execution_count": 46,
      "outputs": [
        {
          "output_type": "stream",
          "name": "stderr",
          "text": [
            "<ipython-input-46-0d26d5dbca9b>:19: FutureWarning: A value is trying to be set on a copy of a DataFrame or Series through chained assignment using an inplace method.\n",
            "The behavior will change in pandas 3.0. This inplace method will never work because the intermediate object on which we are setting values always behaves as a copy.\n",
            "\n",
            "For example, when doing 'df[col].method(value, inplace=True)', try using 'df.method({col: value}, inplace=True)' or df[col] = df[col].method(value) instead, to perform the operation inplace on the original object.\n",
            "\n",
            "\n",
            "  subway['bound'].fillna('Unknown', inplace=True)\n",
            "<ipython-input-46-0d26d5dbca9b>:20: FutureWarning: A value is trying to be set on a copy of a DataFrame or Series through chained assignment using an inplace method.\n",
            "The behavior will change in pandas 3.0. This inplace method will never work because the intermediate object on which we are setting values always behaves as a copy.\n",
            "\n",
            "For example, when doing 'df[col].method(value, inplace=True)', try using 'df.method({col: value}, inplace=True)' or df[col] = df[col].method(value) instead, to perform the operation inplace on the original object.\n",
            "\n",
            "\n",
            "  subway['line_code'].fillna('Unknown', inplace=True)\n"
          ]
        }
      ]
    },
    {
      "cell_type": "markdown",
      "source": [
        "## Occurrency"
      ],
      "metadata": {
        "id": "TgO3g0GSl7q8"
      }
    },
    {
      "cell_type": "code",
      "source": [
        "# Create a binary target for delay occurrence\n",
        "subway['delay_occurrence'] = (subway['min_delay'] > 0).astype(int)\n",
        "\n",
        "# Split data into train and test sets\n",
        "X = subway[features]\n",
        "y = subway['delay_occurrence']\n",
        "X_train, X_test, y_train, y_test = train_test_split(X, y, test_size=0.2, random_state=42)\n",
        "\n",
        "# Train a Random Forest Classifier\n",
        "rf_occurrence = RandomForestClassifier(random_state=42)\n",
        "rf_occurrence.fit(X_train, y_train)\n",
        "\n",
        "# Predictions\n",
        "y_pred_occurrence = rf_occurrence.predict(X_test)\n",
        "\n",
        "# Evaluate the model\n",
        "print(\"Accuracy:\", accuracy_score(y_test, y_pred_occurrence))\n",
        "print(classification_report(y_test, y_pred_occurrence))"
      ],
      "metadata": {
        "colab": {
          "base_uri": "https://localhost:8080/"
        },
        "id": "M46kpK592hc5",
        "outputId": "0e282fd4-bd2c-45ad-8045-89836bef00f4"
      },
      "execution_count": 47,
      "outputs": [
        {
          "output_type": "stream",
          "name": "stdout",
          "text": [
            "Accuracy: 0.7735890652557319\n",
            "              precision    recall  f1-score   support\n",
            "\n",
            "           0       0.83      0.81      0.82      2889\n",
            "           1       0.68      0.72      0.70      1647\n",
            "\n",
            "    accuracy                           0.77      4536\n",
            "   macro avg       0.76      0.76      0.76      4536\n",
            "weighted avg       0.78      0.77      0.77      4536\n",
            "\n"
          ]
        }
      ]
    },
    {
      "cell_type": "markdown",
      "source": [
        "## Length"
      ],
      "metadata": {
        "id": "T4rHh7NHlkkH"
      }
    },
    {
      "cell_type": "code",
      "source": [
        "features = [\n",
        "    'hour', 'day', 'month', 'day_of_week', 'station', 'code', 'bound',\n",
        "    'day_type', 'rush_type', 'season', 'is_holiday']\n",
        "\n",
        "# Split data into train and test sets\n",
        "X = subway[features]\n",
        "y = subway['min_delay']\n",
        "X_train, X_test, y_train, y_test = train_test_split(X, y, test_size=0.2, random_state=42)\n",
        "\n",
        "# Instantiate the model\n",
        "rf_regressor = RandomForestRegressor(n_estimators=100, random_state=42)\n",
        "\n",
        "# Train the model\n",
        "rf_regressor.fit(X_train, y_train)\n",
        "\n",
        "# Predict on test data\n",
        "y_pred = rf_regressor.predict(X_test)\n",
        "\n",
        "# Evaluate the model\n",
        "mse = mean_squared_error(y_test, y_pred)\n",
        "mae = mean_absolute_error(y_test, y_pred)\n",
        "r2 = r2_score(y_test, y_pred)\n",
        "print(f'Mean Squared Error: {mse}')\n",
        "print(f'Mean Absolute Error: {mae}')\n",
        "print(f'R-squared: {r2}')"
      ],
      "metadata": {
        "colab": {
          "base_uri": "https://localhost:8080/"
        },
        "id": "r0Efx9Arlj_o",
        "outputId": "fefd3cd0-beb3-4859-875e-6051bf44b758"
      },
      "execution_count": 42,
      "outputs": [
        {
          "output_type": "stream",
          "name": "stdout",
          "text": [
            "Mean Squared Error: 48.93389357331211\n",
            "Mean Absolute Error: 2.6807790349164353\n",
            "R-squared: 0.1014800466185879\n"
          ]
        }
      ]
    }
  ]
}